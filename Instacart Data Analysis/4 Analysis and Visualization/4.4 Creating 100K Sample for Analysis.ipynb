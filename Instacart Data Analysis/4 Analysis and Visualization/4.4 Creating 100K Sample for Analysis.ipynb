{
 "cells": [
  {
   "cell_type": "markdown",
   "id": "975d26e1-c9ad-4bf8-a6c3-226d46fac529",
   "metadata": {},
   "source": [
    "## 4.3 Creating 100K sample from total data\n",
    "\n",
    "### Contents\n",
    "#### Importing Libraries\n",
    "#### Importing Data\n",
    "#### Check Proportions in full dataframe\n",
    "#### Make a Sample to do Analysis"
   ]
  },
  {
   "cell_type": "markdown",
   "id": "d637a1dc-fd42-46bb-8c92-8b34c546d7cd",
   "metadata": {},
   "source": [
    "### Import Libraries"
   ]
  },
  {
   "cell_type": "code",
   "execution_count": 3,
   "id": "6115f52b-19d4-49da-af07-1f30f7447fa9",
   "metadata": {},
   "outputs": [],
   "source": [
    "# Import Libraries\n",
    "import pandas as pd\n",
    "import numpy as np\n",
    "import os\n",
    "import matplotlib.pyplot as plt\n",
    "import seaborn as sns\n",
    "import scipy"
   ]
  },
  {
   "cell_type": "markdown",
   "id": "8e5f76e2-cce1-4e15-a952-3b35d9da68b3",
   "metadata": {},
   "source": [
    "### Import Data"
   ]
  },
  {
   "cell_type": "code",
   "execution_count": 6,
   "id": "73bc4f2a-c088-49f2-90ea-70be49752d92",
   "metadata": {},
   "outputs": [],
   "source": [
    "# Define pathway to relevant folder\n",
    "path = r'/Users/sydneyjohnson/Documents/CF Data Analytics Course/07-2024 Instacart Basket Analysis'"
   ]
  },
  {
   "cell_type": "code",
   "execution_count": 8,
   "id": "dda0785a-8e1e-48c2-972e-f004cb0cde33",
   "metadata": {},
   "outputs": [],
   "source": [
    "# Import total_anon_8_1.pkl\n",
    "df = pd.read_pickle(os.path.join(path, '02 Data','Prepared Data', 'total_anon_8_1.pkl'))"
   ]
  },
  {
   "cell_type": "markdown",
   "id": "0fd055ed-85b6-461f-a21c-83deda4dbad4",
   "metadata": {},
   "source": [
    "### Check Proportions in full df"
   ]
  },
  {
   "cell_type": "code",
   "execution_count": 13,
   "id": "468ced3f-552a-48b8-8879-eb7653aff71e",
   "metadata": {},
   "outputs": [
    {
     "data": {
      "text/plain": [
       "(30964564, 31)"
      ]
     },
     "execution_count": 13,
     "metadata": {},
     "output_type": "execute_result"
    }
   ],
   "source": [
    "df.shape"
   ]
  },
  {
   "cell_type": "code",
   "execution_count": 15,
   "id": "5e71e09a-f130-4196-944d-37c62881b507",
   "metadata": {},
   "outputs": [
    {
     "data": {
      "text/plain": [
       "gender\n",
       "Male      15586740\n",
       "Female    15377824\n",
       "Name: count, dtype: int64"
      ]
     },
     "execution_count": 15,
     "metadata": {},
     "output_type": "execute_result"
    }
   ],
   "source": [
    "df['gender'].value_counts(dropna = False)"
   ]
  },
  {
   "cell_type": "code",
   "execution_count": 17,
   "id": "4d3ea949-8bc2-4813-83a3-bdf2ac03f5d1",
   "metadata": {},
   "outputs": [
    {
     "data": {
      "text/plain": [
       "0.5033734691048775"
      ]
     },
     "execution_count": 17,
     "metadata": {},
     "output_type": "execute_result"
    }
   ],
   "source": [
    "15586740/30964564"
   ]
  },
  {
   "cell_type": "markdown",
   "id": "d8e39f7c-3f36-4c7a-856b-18cd08022178",
   "metadata": {},
   "source": [
    "#### 50.34% of total df is male"
   ]
  },
  {
   "cell_type": "code",
   "execution_count": 31,
   "id": "2cab14d5-4d94-4ec0-aaad-d5570bc5f25d",
   "metadata": {},
   "outputs": [
    {
     "data": {
      "text/plain": [
       "0.09688494241352792"
      ]
     },
     "execution_count": 31,
     "metadata": {},
     "output_type": "execute_result"
    }
   ],
   "source": [
    "(30000/30964564) * 100"
   ]
  },
  {
   "cell_type": "markdown",
   "id": "f0ff00dc-8586-4a67-ac15-52f66e12d184",
   "metadata": {},
   "source": [
    "#### Make sample that is 0.1% of total df"
   ]
  },
  {
   "cell_type": "markdown",
   "id": "16b3e3ad-7d37-4759-8f21-98d499d8ec22",
   "metadata": {},
   "source": [
    "### Make a sample of the total df to do analysis on"
   ]
  },
  {
   "cell_type": "code",
   "execution_count": 48,
   "id": "594b0853-5404-4550-bf9e-9d7b4b08b2c1",
   "metadata": {},
   "outputs": [],
   "source": [
    "np.random.seed(7)\n",
    "dev = np.random.rand(len(df)) <= 0.001"
   ]
  },
  {
   "cell_type": "code",
   "execution_count": 50,
   "id": "250d04cf-ee9b-467a-ab8c-6c5bbbe64bc0",
   "metadata": {},
   "outputs": [],
   "source": [
    "df_samp = df[dev]"
   ]
  },
  {
   "cell_type": "code",
   "execution_count": 52,
   "id": "59359b23-36e8-46ce-83f1-7cb3b51a3af8",
   "metadata": {},
   "outputs": [
    {
     "data": {
      "text/plain": [
       "(30653, 31)"
      ]
     },
     "execution_count": 52,
     "metadata": {},
     "output_type": "execute_result"
    }
   ],
   "source": [
    "df_samp.shape"
   ]
  },
  {
   "cell_type": "code",
   "execution_count": 54,
   "id": "e7c7bba2-cbb3-4965-bf33-4ed8d76ad7ab",
   "metadata": {},
   "outputs": [
    {
     "data": {
      "text/plain": [
       "gender\n",
       "Male      15572\n",
       "Female    15081\n",
       "Name: count, dtype: int64"
      ]
     },
     "execution_count": 54,
     "metadata": {},
     "output_type": "execute_result"
    }
   ],
   "source": [
    "df_samp['gender'].value_counts(dropna = False)"
   ]
  },
  {
   "cell_type": "code",
   "execution_count": 56,
   "id": "12388e89-a520-4b62-8098-9eb211042d57",
   "metadata": {},
   "outputs": [
    {
     "data": {
      "text/plain": [
       "0.5080090040126578"
      ]
     },
     "execution_count": 56,
     "metadata": {},
     "output_type": "execute_result"
    }
   ],
   "source": [
    "15572/30653"
   ]
  },
  {
   "cell_type": "code",
   "execution_count": 80,
   "id": "2dc90be9-e80e-4cc8-913d-679c905da9fc",
   "metadata": {},
   "outputs": [
    {
     "name": "stdout",
     "output_type": "stream",
     "text": [
      "0.003229498080450931\n"
     ]
    }
   ],
   "source": [
    "x = (100000/30964564)\n",
    "print(x)"
   ]
  },
  {
   "cell_type": "code",
   "execution_count": 82,
   "id": "c13e7d6e-1fef-4e20-b937-218f75a0b668",
   "metadata": {},
   "outputs": [],
   "source": [
    "np.random.seed(9)\n",
    "dev = np.random.rand(len(df)) <= 0.003229498080450931"
   ]
  },
  {
   "cell_type": "code",
   "execution_count": 84,
   "id": "8675bd00-2b0d-43e6-b3b6-132be90b7cb2",
   "metadata": {},
   "outputs": [],
   "source": [
    "df_samp = df[dev]"
   ]
  },
  {
   "cell_type": "code",
   "execution_count": 86,
   "id": "fd2492eb-a95a-44ad-a2a2-045b6a4476f3",
   "metadata": {},
   "outputs": [
    {
     "data": {
      "text/plain": [
       "(100228, 31)"
      ]
     },
     "execution_count": 86,
     "metadata": {},
     "output_type": "execute_result"
    }
   ],
   "source": [
    "df_samp.shape"
   ]
  },
  {
   "cell_type": "code",
   "execution_count": 88,
   "id": "96379900-d912-47bd-aa80-43d43ffaa9aa",
   "metadata": {},
   "outputs": [
    {
     "data": {
      "text/plain": [
       "gender\n",
       "Male      50439\n",
       "Female    49789\n",
       "Name: count, dtype: int64"
      ]
     },
     "execution_count": 88,
     "metadata": {},
     "output_type": "execute_result"
    }
   ],
   "source": [
    "df_samp['gender'].value_counts(dropna = False)"
   ]
  },
  {
   "cell_type": "code",
   "execution_count": 90,
   "id": "907175b5-432d-4682-843a-7b8cbbde27f2",
   "metadata": {},
   "outputs": [
    {
     "data": {
      "text/plain": [
       "0.5032426068563675"
      ]
     },
     "execution_count": 90,
     "metadata": {},
     "output_type": "execute_result"
    }
   ],
   "source": [
    "50439/100228"
   ]
  },
  {
   "cell_type": "markdown",
   "id": "0f96b481-5ea0-4982-b2bd-cb42c9369ab0",
   "metadata": {},
   "source": [
    "### Export Sample"
   ]
  },
  {
   "cell_type": "code",
   "execution_count": null,
   "id": "d8ac84a9-734d-43b3-90c3-65bee2540dd8",
   "metadata": {},
   "outputs": [],
   "source": []
  }
 ],
 "metadata": {
  "kernelspec": {
   "display_name": "Python 3 (ipykernel)",
   "language": "python",
   "name": "python3"
  },
  "language_info": {
   "codemirror_mode": {
    "name": "ipython",
    "version": 3
   },
   "file_extension": ".py",
   "mimetype": "text/x-python",
   "name": "python",
   "nbconvert_exporter": "python",
   "pygments_lexer": "ipython3",
   "version": "3.11.7"
  }
 },
 "nbformat": 4,
 "nbformat_minor": 5
}
