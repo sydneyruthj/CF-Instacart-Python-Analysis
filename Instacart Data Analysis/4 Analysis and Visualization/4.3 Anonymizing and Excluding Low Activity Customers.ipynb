{
 "cells": [
  {
   "cell_type": "markdown",
   "id": "1b8bc51f-2896-4736-8489-94817e02bc7b",
   "metadata": {},
   "source": [
    "## 4.3 Anonymizing and Excluding Low Activity Customers\n",
    "\n",
    "### Contents\n",
    "#### Importing Libraries\n",
    "#### Importing Data\n",
    "#### Addressing PII\n",
    "#### Examining Spending Habits by Region\n",
    "#### Exclude Low Activity Customers\n",
    "#### Export as pickle"
   ]
  },
  {
   "cell_type": "markdown",
   "id": "79094cf6-8828-4dc1-b904-a63b478d3e83",
   "metadata": {},
   "source": [
    "### Importing Libraries"
   ]
  },
  {
   "cell_type": "code",
   "execution_count": 3,
   "id": "90a7dd34-8f30-446d-bb6f-bcc7daa025fe",
   "metadata": {},
   "outputs": [],
   "source": [
    "# Import Libraries\n",
    "import pandas as pd\n",
    "import numpy as np\n",
    "import os\n",
    "import matplotlib.pyplot as plt\n",
    "import seaborn as sns\n",
    "import scipy"
   ]
  },
  {
   "cell_type": "markdown",
   "id": "d86c3d48-e28f-4916-84a7-c521590a481b",
   "metadata": {},
   "source": [
    "### 1. Importing Data"
   ]
  },
  {
   "cell_type": "code",
   "execution_count": 5,
   "id": "9589eb44-891e-4c94-a9d0-f8f1d8762a27",
   "metadata": {},
   "outputs": [],
   "source": [
    "# Define pathway to relevant folder\n",
    "path = r'/Users/sydneyjohnson/Documents/CF Data Analytics Course/07-2024 Instacart Basket Analysis'"
   ]
  },
  {
   "cell_type": "code",
   "execution_count": 6,
   "id": "b581fcc8-a778-4f64-a968-b7c25832fd5f",
   "metadata": {},
   "outputs": [],
   "source": [
    "# Import total_data.pkl\n",
    "df = pd.read_pickle(os.path.join(path, '02 Data','Prepared Data', 'total_data.pkl'))"
   ]
  },
  {
   "cell_type": "markdown",
   "id": "ed898237-e809-4350-8c20-f3e87ec1507e",
   "metadata": {},
   "source": [
    "### 2. Addressing PII"
   ]
  },
  {
   "cell_type": "code",
   "execution_count": 8,
   "id": "38f0fd45-ce7c-4717-a62f-2d08d1cbae06",
   "metadata": {},
   "outputs": [
    {
     "data": {
      "text/html": [
       "<div>\n",
       "<style scoped>\n",
       "    .dataframe tbody tr th:only-of-type {\n",
       "        vertical-align: middle;\n",
       "    }\n",
       "\n",
       "    .dataframe tbody tr th {\n",
       "        vertical-align: top;\n",
       "    }\n",
       "\n",
       "    .dataframe thead th {\n",
       "        text-align: right;\n",
       "    }\n",
       "</style>\n",
       "<table border=\"1\" class=\"dataframe\">\n",
       "  <thead>\n",
       "    <tr style=\"text-align: right;\">\n",
       "      <th></th>\n",
       "      <th>order_id</th>\n",
       "      <th>user_id</th>\n",
       "      <th>order_number</th>\n",
       "      <th>orders_day_of_week</th>\n",
       "      <th>order_hour_placed</th>\n",
       "      <th>days_since_prior_order</th>\n",
       "      <th>product_id</th>\n",
       "      <th>add_to_cart_order</th>\n",
       "      <th>reordered</th>\n",
       "      <th>product_name</th>\n",
       "      <th>...</th>\n",
       "      <th>first_name</th>\n",
       "      <th>surname</th>\n",
       "      <th>gender</th>\n",
       "      <th>state</th>\n",
       "      <th>age</th>\n",
       "      <th>date_joined</th>\n",
       "      <th>n_dependants</th>\n",
       "      <th>fam_status</th>\n",
       "      <th>income</th>\n",
       "      <th>_merge</th>\n",
       "    </tr>\n",
       "  </thead>\n",
       "  <tbody>\n",
       "    <tr>\n",
       "      <th>0</th>\n",
       "      <td>2539329</td>\n",
       "      <td>1</td>\n",
       "      <td>1</td>\n",
       "      <td>2</td>\n",
       "      <td>8</td>\n",
       "      <td>NaN</td>\n",
       "      <td>196</td>\n",
       "      <td>1</td>\n",
       "      <td>0</td>\n",
       "      <td>Soda</td>\n",
       "      <td>...</td>\n",
       "      <td>Linda</td>\n",
       "      <td>Nguyen</td>\n",
       "      <td>Female</td>\n",
       "      <td>Alabama</td>\n",
       "      <td>31</td>\n",
       "      <td>2/17/2019</td>\n",
       "      <td>3</td>\n",
       "      <td>married</td>\n",
       "      <td>40423</td>\n",
       "      <td>both</td>\n",
       "    </tr>\n",
       "    <tr>\n",
       "      <th>1</th>\n",
       "      <td>2539329</td>\n",
       "      <td>1</td>\n",
       "      <td>1</td>\n",
       "      <td>2</td>\n",
       "      <td>8</td>\n",
       "      <td>NaN</td>\n",
       "      <td>14084</td>\n",
       "      <td>2</td>\n",
       "      <td>0</td>\n",
       "      <td>Organic Unsweetened Vanilla Almond Milk</td>\n",
       "      <td>...</td>\n",
       "      <td>Linda</td>\n",
       "      <td>Nguyen</td>\n",
       "      <td>Female</td>\n",
       "      <td>Alabama</td>\n",
       "      <td>31</td>\n",
       "      <td>2/17/2019</td>\n",
       "      <td>3</td>\n",
       "      <td>married</td>\n",
       "      <td>40423</td>\n",
       "      <td>both</td>\n",
       "    </tr>\n",
       "    <tr>\n",
       "      <th>2</th>\n",
       "      <td>2539329</td>\n",
       "      <td>1</td>\n",
       "      <td>1</td>\n",
       "      <td>2</td>\n",
       "      <td>8</td>\n",
       "      <td>NaN</td>\n",
       "      <td>12427</td>\n",
       "      <td>3</td>\n",
       "      <td>0</td>\n",
       "      <td>Original Beef Jerky</td>\n",
       "      <td>...</td>\n",
       "      <td>Linda</td>\n",
       "      <td>Nguyen</td>\n",
       "      <td>Female</td>\n",
       "      <td>Alabama</td>\n",
       "      <td>31</td>\n",
       "      <td>2/17/2019</td>\n",
       "      <td>3</td>\n",
       "      <td>married</td>\n",
       "      <td>40423</td>\n",
       "      <td>both</td>\n",
       "    </tr>\n",
       "    <tr>\n",
       "      <th>3</th>\n",
       "      <td>2539329</td>\n",
       "      <td>1</td>\n",
       "      <td>1</td>\n",
       "      <td>2</td>\n",
       "      <td>8</td>\n",
       "      <td>NaN</td>\n",
       "      <td>26088</td>\n",
       "      <td>4</td>\n",
       "      <td>0</td>\n",
       "      <td>Aged White Cheddar Popcorn</td>\n",
       "      <td>...</td>\n",
       "      <td>Linda</td>\n",
       "      <td>Nguyen</td>\n",
       "      <td>Female</td>\n",
       "      <td>Alabama</td>\n",
       "      <td>31</td>\n",
       "      <td>2/17/2019</td>\n",
       "      <td>3</td>\n",
       "      <td>married</td>\n",
       "      <td>40423</td>\n",
       "      <td>both</td>\n",
       "    </tr>\n",
       "    <tr>\n",
       "      <th>4</th>\n",
       "      <td>2539329</td>\n",
       "      <td>1</td>\n",
       "      <td>1</td>\n",
       "      <td>2</td>\n",
       "      <td>8</td>\n",
       "      <td>NaN</td>\n",
       "      <td>26405</td>\n",
       "      <td>5</td>\n",
       "      <td>0</td>\n",
       "      <td>XL Pick-A-Size Paper Towel Rolls</td>\n",
       "      <td>...</td>\n",
       "      <td>Linda</td>\n",
       "      <td>Nguyen</td>\n",
       "      <td>Female</td>\n",
       "      <td>Alabama</td>\n",
       "      <td>31</td>\n",
       "      <td>2/17/2019</td>\n",
       "      <td>3</td>\n",
       "      <td>married</td>\n",
       "      <td>40423</td>\n",
       "      <td>both</td>\n",
       "    </tr>\n",
       "  </tbody>\n",
       "</table>\n",
       "<p>5 rows × 30 columns</p>\n",
       "</div>"
      ],
      "text/plain": [
       "  order_id user_id  order_number  orders_day_of_week  order_hour_placed  \\\n",
       "0  2539329       1             1                   2                  8   \n",
       "1  2539329       1             1                   2                  8   \n",
       "2  2539329       1             1                   2                  8   \n",
       "3  2539329       1             1                   2                  8   \n",
       "4  2539329       1             1                   2                  8   \n",
       "\n",
       "   days_since_prior_order product_id  add_to_cart_order  reordered  \\\n",
       "0                     NaN        196                  1          0   \n",
       "1                     NaN      14084                  2          0   \n",
       "2                     NaN      12427                  3          0   \n",
       "3                     NaN      26088                  4          0   \n",
       "4                     NaN      26405                  5          0   \n",
       "\n",
       "                              product_name  ...  first_name  surname  gender  \\\n",
       "0                                     Soda  ...       Linda   Nguyen  Female   \n",
       "1  Organic Unsweetened Vanilla Almond Milk  ...       Linda   Nguyen  Female   \n",
       "2                      Original Beef Jerky  ...       Linda   Nguyen  Female   \n",
       "3               Aged White Cheddar Popcorn  ...       Linda   Nguyen  Female   \n",
       "4         XL Pick-A-Size Paper Towel Rolls  ...       Linda   Nguyen  Female   \n",
       "\n",
       "     state age  date_joined n_dependants  fam_status income  _merge  \n",
       "0  Alabama  31    2/17/2019            3     married  40423    both  \n",
       "1  Alabama  31    2/17/2019            3     married  40423    both  \n",
       "2  Alabama  31    2/17/2019            3     married  40423    both  \n",
       "3  Alabama  31    2/17/2019            3     married  40423    both  \n",
       "4  Alabama  31    2/17/2019            3     married  40423    both  \n",
       "\n",
       "[5 rows x 30 columns]"
      ]
     },
     "execution_count": 8,
     "metadata": {},
     "output_type": "execute_result"
    }
   ],
   "source": [
    "# View head of dataframe\n",
    "df.head()"
   ]
  },
  {
   "cell_type": "code",
   "execution_count": 9,
   "id": "084c3c86-b27d-4d62-928d-f8a00fe8f914",
   "metadata": {},
   "outputs": [],
   "source": [
    "# The data includes first and last names of customers. I am going to drop the 'first_name' column to anonymize the data.\n",
    "df_anon = df.drop(columns = ['first_name'])"
   ]
  },
  {
   "cell_type": "markdown",
   "id": "7368c282-6b9e-4070-9b01-3ea83a1e0c9e",
   "metadata": {},
   "source": [
    "### 3. Examining Spending Habits by Region"
   ]
  },
  {
   "cell_type": "markdown",
   "id": "4f7e6dd0-c8be-4397-b8af-af41ce7730ae",
   "metadata": {},
   "source": [
    "#### Testing loc function on subset of the dataframe"
   ]
  },
  {
   "cell_type": "code",
   "execution_count": 12,
   "id": "be49d69d-ab90-40ff-9ded-8bc1053ac09e",
   "metadata": {},
   "outputs": [],
   "source": [
    "# Create subset of first 10,000 rows to test code.\n",
    "df_mini = df_anon[:10000]"
   ]
  },
  {
   "cell_type": "code",
   "execution_count": 13,
   "id": "93fe0c71-8a42-4149-93d4-bc88753aacd3",
   "metadata": {},
   "outputs": [
    {
     "data": {
      "text/plain": [
       "(10000, 29)"
      ]
     },
     "execution_count": 13,
     "metadata": {},
     "output_type": "execute_result"
    }
   ],
   "source": [
    "# Check new dataframe\n",
    "df_mini.shape"
   ]
  },
  {
   "cell_type": "code",
   "execution_count": 14,
   "id": "1630a860-d3df-4f17-baf5-c95aaed39f1d",
   "metadata": {},
   "outputs": [
    {
     "data": {
      "text/plain": [
       "state\n",
       "Pennsylvania            667082\n",
       "California              659783\n",
       "Rhode Island            656913\n",
       "Georgia                 656389\n",
       "New Mexico              654494\n",
       "Arizona                 653964\n",
       "North Carolina          651900\n",
       "Oklahoma                651739\n",
       "Alaska                  648495\n",
       "Minnesota               647825\n",
       "Massachusetts           646358\n",
       "Wyoming                 644255\n",
       "Virginia                641421\n",
       "Missouri                640732\n",
       "Texas                   640394\n",
       "Colorado                639280\n",
       "Maine                   638583\n",
       "North Dakota            638491\n",
       "Alabama                 638003\n",
       "Kansas                  637538\n",
       "Louisiana               637482\n",
       "Delaware                637024\n",
       "South Carolina          636754\n",
       "Oregon                  636425\n",
       "Arkansas                636144\n",
       "Nevada                  636139\n",
       "New York                635983\n",
       "Montana                 635265\n",
       "South Dakota            633772\n",
       "Illinois                633024\n",
       "Hawaii                  632901\n",
       "Washington              632852\n",
       "Mississippi             632675\n",
       "Kentucky                632490\n",
       "Michigan                630928\n",
       "Florida                 629027\n",
       "Ohio                    628319\n",
       "Wisconsin               628108\n",
       "New Jersey              627692\n",
       "Indiana                 627282\n",
       "Maryland                626579\n",
       "Nebraska                625813\n",
       "Iowa                    625493\n",
       "Connecticut             623022\n",
       "Tennessee               617873\n",
       "New Hampshire           615378\n",
       "District of Columbia    613695\n",
       "West Virginia           612296\n",
       "Utah                    611941\n",
       "Vermont                 611725\n",
       "Idaho                   607119\n",
       "Name: count, dtype: int64"
      ]
     },
     "execution_count": 14,
     "metadata": {},
     "output_type": "execute_result"
    }
   ],
   "source": [
    "# Check value counts for 'state'\n",
    "df['state'].value_counts()"
   ]
  },
  {
   "cell_type": "code",
   "execution_count": 15,
   "id": "ef24d5c7-5ed4-4140-a410-2b0ef58bcedf",
   "metadata": {},
   "outputs": [],
   "source": [
    "# Use the loc() function to create a region column based on state in a test df.\n",
    "# Northeast\n",
    "df_mini = df_mini.copy()\n",
    "df_mini.loc[df_mini['state'].isin([\n",
    "    'Maine', 'New Hampshire', 'Vermont', 'Massachusetts', \n",
    "    'Rhode Island', 'Connecticut', 'New York', 'Pennsylvania', \n",
    "    'New Jersey'\n",
    "]), 'region'] = 'Northeast'"
   ]
  },
  {
   "cell_type": "code",
   "execution_count": 16,
   "id": "3978ef35-01d8-4f38-88c6-0abdfa30a396",
   "metadata": {},
   "outputs": [],
   "source": [
    "df_mini = df_mini.copy()\n",
    "df_mini.loc[df_mini['state'].isin([\n",
    "    'Wisconsin','Michigan','Illinois','Indiana','Ohio',\n",
    "    'North Dakota','South Dakota','Nebraska','Kansas','Minnesota',\n",
    "    'Iowa','Missouri'\n",
    "]), 'region'] = 'Midwest'"
   ]
  },
  {
   "cell_type": "code",
   "execution_count": 17,
   "id": "f620332e-f9a3-4d91-adb1-974e4a8dab8b",
   "metadata": {},
   "outputs": [],
   "source": [
    "df_mini = df_mini.copy()\n",
    "df_mini.loc[df_mini['state'].isin([\n",
    "    'Delaware','Maryland','District of Columbia','Virginia',\n",
    "    'West Virginia','North Carolina','South Carolina','Georgia',\n",
    "    'Florida','Kentucky','Tennessee','Mississippi','Alabama',\n",
    "    'Oklahoma','Texas','Arkansas','Louisiana'\n",
    "]), 'region'] = 'South'"
   ]
  },
  {
   "cell_type": "code",
   "execution_count": 18,
   "id": "d82bdf6c-e9eb-4f5f-a0e9-2a485de9e124",
   "metadata": {},
   "outputs": [],
   "source": [
    "df_mini = df_mini.copy()\n",
    "df_mini.loc[df_mini['state'].isin([\n",
    "    'Idaho','Montana','Wyoming','Nevada','Utah','Colorado',\n",
    "    'Arizona','New Mexico','Alaska','Washington','Oregon','California','Hawaii'\n",
    "]), 'region'] = 'West'"
   ]
  },
  {
   "cell_type": "code",
   "execution_count": 19,
   "id": "bf2c91d5-d100-46db-8cac-05a1259632a1",
   "metadata": {},
   "outputs": [
    {
     "data": {
      "text/html": [
       "<div>\n",
       "<style scoped>\n",
       "    .dataframe tbody tr th:only-of-type {\n",
       "        vertical-align: middle;\n",
       "    }\n",
       "\n",
       "    .dataframe tbody tr th {\n",
       "        vertical-align: top;\n",
       "    }\n",
       "\n",
       "    .dataframe thead th {\n",
       "        text-align: right;\n",
       "    }\n",
       "</style>\n",
       "<table border=\"1\" class=\"dataframe\">\n",
       "  <thead>\n",
       "    <tr style=\"text-align: right;\">\n",
       "      <th></th>\n",
       "      <th>order_id</th>\n",
       "      <th>user_id</th>\n",
       "      <th>order_number</th>\n",
       "      <th>orders_day_of_week</th>\n",
       "      <th>order_hour_placed</th>\n",
       "      <th>days_since_prior_order</th>\n",
       "      <th>product_id</th>\n",
       "      <th>add_to_cart_order</th>\n",
       "      <th>reordered</th>\n",
       "      <th>product_name</th>\n",
       "      <th>...</th>\n",
       "      <th>surname</th>\n",
       "      <th>gender</th>\n",
       "      <th>state</th>\n",
       "      <th>age</th>\n",
       "      <th>date_joined</th>\n",
       "      <th>n_dependants</th>\n",
       "      <th>fam_status</th>\n",
       "      <th>income</th>\n",
       "      <th>_merge</th>\n",
       "      <th>region</th>\n",
       "    </tr>\n",
       "  </thead>\n",
       "  <tbody>\n",
       "    <tr>\n",
       "      <th>0</th>\n",
       "      <td>2539329</td>\n",
       "      <td>1</td>\n",
       "      <td>1</td>\n",
       "      <td>2</td>\n",
       "      <td>8</td>\n",
       "      <td>NaN</td>\n",
       "      <td>196</td>\n",
       "      <td>1</td>\n",
       "      <td>0</td>\n",
       "      <td>Soda</td>\n",
       "      <td>...</td>\n",
       "      <td>Nguyen</td>\n",
       "      <td>Female</td>\n",
       "      <td>Alabama</td>\n",
       "      <td>31</td>\n",
       "      <td>2/17/2019</td>\n",
       "      <td>3</td>\n",
       "      <td>married</td>\n",
       "      <td>40423</td>\n",
       "      <td>both</td>\n",
       "      <td>South</td>\n",
       "    </tr>\n",
       "    <tr>\n",
       "      <th>1</th>\n",
       "      <td>2539329</td>\n",
       "      <td>1</td>\n",
       "      <td>1</td>\n",
       "      <td>2</td>\n",
       "      <td>8</td>\n",
       "      <td>NaN</td>\n",
       "      <td>14084</td>\n",
       "      <td>2</td>\n",
       "      <td>0</td>\n",
       "      <td>Organic Unsweetened Vanilla Almond Milk</td>\n",
       "      <td>...</td>\n",
       "      <td>Nguyen</td>\n",
       "      <td>Female</td>\n",
       "      <td>Alabama</td>\n",
       "      <td>31</td>\n",
       "      <td>2/17/2019</td>\n",
       "      <td>3</td>\n",
       "      <td>married</td>\n",
       "      <td>40423</td>\n",
       "      <td>both</td>\n",
       "      <td>South</td>\n",
       "    </tr>\n",
       "    <tr>\n",
       "      <th>2</th>\n",
       "      <td>2539329</td>\n",
       "      <td>1</td>\n",
       "      <td>1</td>\n",
       "      <td>2</td>\n",
       "      <td>8</td>\n",
       "      <td>NaN</td>\n",
       "      <td>12427</td>\n",
       "      <td>3</td>\n",
       "      <td>0</td>\n",
       "      <td>Original Beef Jerky</td>\n",
       "      <td>...</td>\n",
       "      <td>Nguyen</td>\n",
       "      <td>Female</td>\n",
       "      <td>Alabama</td>\n",
       "      <td>31</td>\n",
       "      <td>2/17/2019</td>\n",
       "      <td>3</td>\n",
       "      <td>married</td>\n",
       "      <td>40423</td>\n",
       "      <td>both</td>\n",
       "      <td>South</td>\n",
       "    </tr>\n",
       "    <tr>\n",
       "      <th>3</th>\n",
       "      <td>2539329</td>\n",
       "      <td>1</td>\n",
       "      <td>1</td>\n",
       "      <td>2</td>\n",
       "      <td>8</td>\n",
       "      <td>NaN</td>\n",
       "      <td>26088</td>\n",
       "      <td>4</td>\n",
       "      <td>0</td>\n",
       "      <td>Aged White Cheddar Popcorn</td>\n",
       "      <td>...</td>\n",
       "      <td>Nguyen</td>\n",
       "      <td>Female</td>\n",
       "      <td>Alabama</td>\n",
       "      <td>31</td>\n",
       "      <td>2/17/2019</td>\n",
       "      <td>3</td>\n",
       "      <td>married</td>\n",
       "      <td>40423</td>\n",
       "      <td>both</td>\n",
       "      <td>South</td>\n",
       "    </tr>\n",
       "    <tr>\n",
       "      <th>4</th>\n",
       "      <td>2539329</td>\n",
       "      <td>1</td>\n",
       "      <td>1</td>\n",
       "      <td>2</td>\n",
       "      <td>8</td>\n",
       "      <td>NaN</td>\n",
       "      <td>26405</td>\n",
       "      <td>5</td>\n",
       "      <td>0</td>\n",
       "      <td>XL Pick-A-Size Paper Towel Rolls</td>\n",
       "      <td>...</td>\n",
       "      <td>Nguyen</td>\n",
       "      <td>Female</td>\n",
       "      <td>Alabama</td>\n",
       "      <td>31</td>\n",
       "      <td>2/17/2019</td>\n",
       "      <td>3</td>\n",
       "      <td>married</td>\n",
       "      <td>40423</td>\n",
       "      <td>both</td>\n",
       "      <td>South</td>\n",
       "    </tr>\n",
       "  </tbody>\n",
       "</table>\n",
       "<p>5 rows × 30 columns</p>\n",
       "</div>"
      ],
      "text/plain": [
       "  order_id user_id  order_number  orders_day_of_week  order_hour_placed  \\\n",
       "0  2539329       1             1                   2                  8   \n",
       "1  2539329       1             1                   2                  8   \n",
       "2  2539329       1             1                   2                  8   \n",
       "3  2539329       1             1                   2                  8   \n",
       "4  2539329       1             1                   2                  8   \n",
       "\n",
       "   days_since_prior_order product_id  add_to_cart_order  reordered  \\\n",
       "0                     NaN        196                  1          0   \n",
       "1                     NaN      14084                  2          0   \n",
       "2                     NaN      12427                  3          0   \n",
       "3                     NaN      26088                  4          0   \n",
       "4                     NaN      26405                  5          0   \n",
       "\n",
       "                              product_name  ...  surname  gender    state  \\\n",
       "0                                     Soda  ...   Nguyen  Female  Alabama   \n",
       "1  Organic Unsweetened Vanilla Almond Milk  ...   Nguyen  Female  Alabama   \n",
       "2                      Original Beef Jerky  ...   Nguyen  Female  Alabama   \n",
       "3               Aged White Cheddar Popcorn  ...   Nguyen  Female  Alabama   \n",
       "4         XL Pick-A-Size Paper Towel Rolls  ...   Nguyen  Female  Alabama   \n",
       "\n",
       "   age date_joined  n_dependants fam_status  income _merge  region  \n",
       "0   31   2/17/2019             3    married   40423   both   South  \n",
       "1   31   2/17/2019             3    married   40423   both   South  \n",
       "2   31   2/17/2019             3    married   40423   both   South  \n",
       "3   31   2/17/2019             3    married   40423   both   South  \n",
       "4   31   2/17/2019             3    married   40423   both   South  \n",
       "\n",
       "[5 rows x 30 columns]"
      ]
     },
     "execution_count": 19,
     "metadata": {},
     "output_type": "execute_result"
    }
   ],
   "source": [
    "# Check head of df_mini\n",
    "df_mini.head()"
   ]
  },
  {
   "cell_type": "code",
   "execution_count": 20,
   "id": "b6ba1b8f-3e63-4c57-b331-866eff120f32",
   "metadata": {},
   "outputs": [
    {
     "data": {
      "text/plain": [
       "region\n",
       "West         2780\n",
       "South        2459\n",
       "Midwest      2397\n",
       "Northeast    2364\n",
       "Name: count, dtype: int64"
      ]
     },
     "execution_count": 20,
     "metadata": {},
     "output_type": "execute_result"
    }
   ],
   "source": [
    "# Check value counts of 'region'\n",
    "df_mini['region'].value_counts(dropna= False)"
   ]
  },
  {
   "cell_type": "markdown",
   "id": "e0b3acb2-a533-4a17-9e9b-c72e613a9bb8",
   "metadata": {},
   "source": [
    "#### Applying Region Flag to Entire Dataframe "
   ]
  },
  {
   "cell_type": "code",
   "execution_count": null,
   "id": "f8fc2a44-557c-477a-9d29-f23554a1120a",
   "metadata": {},
   "outputs": [],
   "source": [
    "# Create region flag for Northeast\n",
    "df_anon.loc[df_anon['state'].isin([\n",
    "    'Maine', 'New Hampshire', 'Vermont', 'Massachusetts', \n",
    "    'Rhode Island', 'Connecticut', 'New York', 'Pennsylvania', \n",
    "    'New Jersey'\n",
    "]), 'region'] = 'Northeast'\n",
    "\n",
    "# Create region flag for Midwest\n",
    "df_anon.loc[df_anon['state'].isin([\n",
    "    'Wisconsin','Michigan','Illinois','Indiana','Ohio',\n",
    "    'North Dakota','South Dakota','Nebraska','Kansas','Minnesota',\n",
    "    'Iowa','Missouri'\n",
    "]), 'region'] = 'Midwest'\n",
    "\n",
    "# Create region flag for South\n",
    "df_anon.loc[df_anon['state'].isin([\n",
    "    'Delaware','Maryland','District of Columbia','Virginia',\n",
    "    'West Virginia','North Carolina','South Carolina','Georgia',\n",
    "    'Florida','Kentucky','Tennessee','Mississippi','Alabama',\n",
    "    'Oklahoma','Texas','Arkansas','Louisiana'\n",
    "]), 'region'] = 'South'\n",
    "\n",
    "# Create region flag for West\n",
    "df_anon.loc[df_anon['state'].isin([\n",
    "    'Idaho','Montana','Wyoming','Nevada','Utah','Colorado',\n",
    "    'Arizona','New Mexico','Alaska','Washington','Oregon','California','Hawaii'\n",
    "]), 'region'] = 'West'"
   ]
  },
  {
   "cell_type": "code",
   "execution_count": 26,
   "id": "bda90aca-77ba-4358-9818-c43236ddcfeb",
   "metadata": {},
   "outputs": [
    {
     "data": {
      "text/plain": [
       "region\n",
       "South        10791885\n",
       "West          8292913\n",
       "Midwest       7597325\n",
       "Northeast     5722736\n",
       "Name: count, dtype: int64"
      ]
     },
     "execution_count": 26,
     "metadata": {},
     "output_type": "execute_result"
    }
   ],
   "source": [
    "# Check value counts for 'region\n",
    "df_anon['region'].value_counts(dropna = False)"
   ]
  },
  {
   "cell_type": "markdown",
   "id": "e26226ce-0672-4aee-a5e6-9667692388b2",
   "metadata": {},
   "source": [
    "#### Examine Relationship between Region and Spending Flag"
   ]
  },
  {
   "cell_type": "code",
   "execution_count": 28,
   "id": "c6b6b376-4d09-4b6b-a878-ce38af327f48",
   "metadata": {},
   "outputs": [
    {
     "data": {
      "text/plain": [
       "Index(['order_id', 'user_id', 'order_number', 'orders_day_of_week',\n",
       "       'order_hour_placed', 'days_since_prior_order', 'product_id',\n",
       "       'add_to_cart_order', 'reordered', 'product_name', 'aisle_id',\n",
       "       'department_id', 'prices', 'max_order', 'loyalty_flag', 'avg_price',\n",
       "       'spending_flag', 'med_days_prior', 'frequency_flag', 'Unnamed: 0',\n",
       "       'surname', 'gender', 'state', 'age', 'date_joined', 'n_dependants',\n",
       "       'fam_status', 'income', '_merge', 'region'],\n",
       "      dtype='object')"
      ]
     },
     "execution_count": 28,
     "metadata": {},
     "output_type": "execute_result"
    }
   ],
   "source": [
    "df_anon.columns"
   ]
  },
  {
   "cell_type": "code",
   "execution_count": 29,
   "id": "4a62313f-ef9d-4387-9b94-8d199913f3a0",
   "metadata": {},
   "outputs": [],
   "source": [
    "# Create crosstab for 'region' and 'spending_flag'\n",
    "crosstab = pd.crosstab(df_anon['region'], df_anon['spending_flag'], dropna = False)"
   ]
  },
  {
   "cell_type": "code",
   "execution_count": 30,
   "id": "d15093ab-bdbc-462a-b258-9faef903e371",
   "metadata": {},
   "outputs": [],
   "source": [
    "# Save crosstab to clipboard\n",
    "crosstab.to_clipboard(index=True, header=True)"
   ]
  },
  {
   "cell_type": "markdown",
   "id": "b3c1fba5-ae7e-43d0-a73f-000f72c5e40e",
   "metadata": {},
   "source": [
    "##### The proportion of customers who are \"high spenders\" in any given region is between 0.33% and 0.39%. High spenders make up the highest proportion in the midwest (0.39%) and the lowest proportion in the Northeast (0.33%). In the West and the South, the proportion of high spenders is 0.38%."
   ]
  },
  {
   "cell_type": "markdown",
   "id": "823d0219-b2d3-4fbe-ba93-7eb58781b799",
   "metadata": {},
   "source": [
    "### Exclude low-activity (<5 orders) Customers"
   ]
  },
  {
   "cell_type": "code",
   "execution_count": 66,
   "id": "50edd426-0eb9-4f0f-a234-8beb0ff6c392",
   "metadata": {},
   "outputs": [
    {
     "data": {
      "text/plain": [
       "max_order\n",
       "99    1171333\n",
       "8      811843\n",
       "6      811396\n",
       "9      810213\n",
       "7      803979\n",
       "       ...   \n",
       "97      44949\n",
       "98      44587\n",
       "96      40453\n",
       "2           6\n",
       "1           5\n",
       "Name: count, Length: 99, dtype: int64"
      ]
     },
     "execution_count": 66,
     "metadata": {},
     "output_type": "execute_result"
    }
   ],
   "source": [
    "df_anon['max_order'].value_counts(dropna = False)"
   ]
  },
  {
   "cell_type": "code",
   "execution_count": 68,
   "id": "3c5c3b01-6c9f-4403-a1cd-59a1a874a406",
   "metadata": {},
   "outputs": [],
   "source": [
    "# Create low-activity flag for customers with fewer than 5 orders\n",
    "df_anon.loc[df_anon['max_order'] < 5, 'Activity'] = 'Low'"
   ]
  },
  {
   "cell_type": "code",
   "execution_count": 72,
   "id": "ffae28f0-4c45-4103-a96b-cb32d986dd78",
   "metadata": {},
   "outputs": [],
   "source": [
    "df_anon.loc[df_anon['max_order'] >= 5, 'Activity'] = 'High'"
   ]
  },
  {
   "cell_type": "code",
   "execution_count": 76,
   "id": "8deac698-07e9-4e78-876f-8aac40bc5add",
   "metadata": {},
   "outputs": [
    {
     "data": {
      "text/plain": [
       "Activity\n",
       "High    30964564\n",
       "Low      1440295\n",
       "Name: count, dtype: int64"
      ]
     },
     "execution_count": 76,
     "metadata": {},
     "output_type": "execute_result"
    }
   ],
   "source": [
    "df_anon['Activity'].value_counts(dropna = False)"
   ]
  },
  {
   "cell_type": "code",
   "execution_count": 78,
   "id": "f61c4087-cd28-4963-94c5-0880b1c0d3fc",
   "metadata": {},
   "outputs": [],
   "source": [
    "df_2 = df_anon.loc[df_anon['Activity'] == 'High']"
   ]
  },
  {
   "cell_type": "code",
   "execution_count": 84,
   "id": "11bf94e6-f0cc-41bc-8b7f-d6a25922d4b8",
   "metadata": {},
   "outputs": [
    {
     "data": {
      "text/plain": [
       "(30964564, 31)"
      ]
     },
     "execution_count": 84,
     "metadata": {},
     "output_type": "execute_result"
    }
   ],
   "source": [
    "df_2.shape"
   ]
  },
  {
   "cell_type": "markdown",
   "id": "e8689490-734d-4331-96de-06059fdfbe2a",
   "metadata": {},
   "source": [
    "### Export New Dataframe as Pickle"
   ]
  },
  {
   "cell_type": "code",
   "execution_count": 86,
   "id": "2881fcb1-a162-41bd-910f-78167105966f",
   "metadata": {},
   "outputs": [],
   "source": [
    "# Export new anonymized and high activity df\n",
    "df_2.to_pickle(os.path.join(path, '02 Data','Prepared Data', 'total_anon_8_1.pkl'))"
   ]
  }
 ],
 "metadata": {
  "kernelspec": {
   "display_name": "Python 3 (ipykernel)",
   "language": "python",
   "name": "python3"
  },
  "language_info": {
   "codemirror_mode": {
    "name": "ipython",
    "version": 3
   },
   "file_extension": ".py",
   "mimetype": "text/x-python",
   "name": "python",
   "nbconvert_exporter": "python",
   "pygments_lexer": "ipython3",
   "version": "3.11.7"
  }
 },
 "nbformat": 4,
 "nbformat_minor": 5
}
