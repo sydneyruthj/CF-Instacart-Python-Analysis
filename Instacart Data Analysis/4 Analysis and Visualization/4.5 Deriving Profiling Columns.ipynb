{
 "cells": [
  {
   "cell_type": "markdown",
   "id": "e6ad0b09-a71a-4ee7-9b38-eff96cba1bff",
   "metadata": {},
   "source": [
    "## 4.10 Final Analysis Part II\n",
    "\n",
    "### Contents\n",
    "#### Importing Libraries\n",
    "#### Importing Data\n",
    "#### Examine Profiling Variables\n",
    "#### Create Age Group Column\n",
    "#### Create Income Bracket Column\n",
    "#### Create a Family Role Column\n",
    "#### Export to Pickle"
   ]
  },
  {
   "cell_type": "markdown",
   "id": "1228bc73-1ced-4f55-85d4-f4c80bfbf3c3",
   "metadata": {},
   "source": [
    "### Import Libraries"
   ]
  },
  {
   "cell_type": "code",
   "execution_count": 3,
   "id": "a00aed7c-2b99-4952-8b9a-04877236cb7f",
   "metadata": {},
   "outputs": [],
   "source": [
    "# Import Libraries\n",
    "import pandas as pd\n",
    "import numpy as np\n",
    "import os\n",
    "import matplotlib.pyplot as plt\n",
    "import seaborn as sns\n",
    "import scipy"
   ]
  },
  {
   "cell_type": "markdown",
   "id": "593f9212-23a3-4b8d-95f5-99221de09650",
   "metadata": {},
   "source": [
    "### Import Data"
   ]
  },
  {
   "cell_type": "code",
   "execution_count": 4,
   "id": "b366e104-69c3-4d37-8a1c-d8023302a461",
   "metadata": {},
   "outputs": [],
   "source": [
    "# Define pathway to relevant folder\n",
    "path = r'/Users/sydneyjohnson/Documents/CF Data Analytics Course/07-2024 Instacart Basket Analysis'"
   ]
  },
  {
   "cell_type": "code",
   "execution_count": 5,
   "id": "8213b9ce-f247-4e04-8cbe-98e74db12a01",
   "metadata": {},
   "outputs": [],
   "source": [
    "# Import sample_100k.pkl\n",
    "df = pd.read_pickle(os.path.join(path, '02 Data','Prepared Data', 'sample_100k.pkl'))"
   ]
  },
  {
   "cell_type": "markdown",
   "id": "1e69712f-0dc5-4929-ba3b-b966d83f194e",
   "metadata": {},
   "source": [
    "### Examine profiling variables"
   ]
  },
  {
   "cell_type": "code",
   "execution_count": 11,
   "id": "8e41dc94-fc75-4ed5-83ff-48f0a12d4484",
   "metadata": {},
   "outputs": [
    {
     "data": {
      "text/plain": [
       "Index(['order_id', 'user_id', 'order_number', 'orders_day_of_week',\n",
       "       'order_hour_placed', 'days_since_prior_order', 'product_id',\n",
       "       'add_to_cart_order', 'reordered', 'product_name', 'aisle_id',\n",
       "       'department_id', 'prices', 'max_order', 'loyalty_flag', 'avg_price',\n",
       "       'spending_flag', 'med_days_prior', 'frequency_flag', 'Unnamed: 0',\n",
       "       'surname', 'gender', 'state', 'age', 'date_joined', 'n_dependants',\n",
       "       'fam_status', 'income', '_merge', 'region', 'Activity'],\n",
       "      dtype='object')"
      ]
     },
     "execution_count": 11,
     "metadata": {},
     "output_type": "execute_result"
    }
   ],
   "source": [
    "# See columns\n",
    "df.columns"
   ]
  },
  {
   "cell_type": "code",
   "execution_count": 13,
   "id": "ad3129e5-a00d-440d-8ac7-9dc4a46da4a3",
   "metadata": {},
   "outputs": [
    {
     "data": {
      "text/plain": [
       "age\n",
       "64    1689\n",
       "69    1665\n",
       "21    1659\n",
       "48    1645\n",
       "68    1643\n",
       "      ... \n",
       "33    1479\n",
       "41    1463\n",
       "58    1463\n",
       "78    1450\n",
       "66    1426\n",
       "Name: count, Length: 64, dtype: int64"
      ]
     },
     "execution_count": 13,
     "metadata": {},
     "output_type": "execute_result"
    }
   ],
   "source": [
    "df['age'].value_counts(dropna = False)"
   ]
  },
  {
   "cell_type": "code",
   "execution_count": 15,
   "id": "7a021f74-33d4-4f1a-b21f-534cf4dea177",
   "metadata": {},
   "outputs": [
    {
     "data": {
      "text/plain": [
       "n_dependants\n",
       "2    25147\n",
       "0    25125\n",
       "3    25027\n",
       "1    24929\n",
       "Name: count, dtype: int64"
      ]
     },
     "execution_count": 15,
     "metadata": {},
     "output_type": "execute_result"
    }
   ],
   "source": [
    "df['n_dependants'].value_counts(dropna = False)"
   ]
  },
  {
   "cell_type": "code",
   "execution_count": 17,
   "id": "7935032e-4776-404e-8606-584485e7243c",
   "metadata": {},
   "outputs": [
    {
     "data": {
      "text/plain": [
       "fam_status\n",
       "married                             70257\n",
       "single                              16552\n",
       "divorced/widowed                     8573\n",
       "living with parents and siblings     4846\n",
       "Name: count, dtype: int64"
      ]
     },
     "execution_count": 17,
     "metadata": {},
     "output_type": "execute_result"
    }
   ],
   "source": [
    "df['fam_status'].value_counts(dropna = False)"
   ]
  },
  {
   "cell_type": "code",
   "execution_count": 19,
   "id": "1f2fb956-db6d-4ab1-adc9-6b289bfdb59c",
   "metadata": {},
   "outputs": [
    {
     "data": {
      "text/plain": [
       "income\n",
       "99954     17\n",
       "99155     17\n",
       "118816    16\n",
       "112610    16\n",
       "107034    15\n",
       "          ..\n",
       "72750      1\n",
       "114202     1\n",
       "64030      1\n",
       "106200     1\n",
       "93240      1\n",
       "Name: count, Length: 48786, dtype: int64"
      ]
     },
     "execution_count": 19,
     "metadata": {},
     "output_type": "execute_result"
    }
   ],
   "source": [
    "df['income'].value_counts(dropna = False)"
   ]
  },
  {
   "cell_type": "code",
   "execution_count": 11,
   "id": "085b5841-48a1-41bd-b05d-37be3492f3b9",
   "metadata": {},
   "outputs": [
    {
     "data": {
      "text/plain": [
       "<Axes: ylabel='Frequency'>"
      ]
     },
     "execution_count": 11,
     "metadata": {},
     "output_type": "execute_result"
    },
    {
     "data": {
      "image/png": "[encoded data removed]",
      "text/plain": [
       "<Figure size 640x480 with 1 Axes>"
      ]
     },
     "metadata": {},
     "output_type": "display_data"
    }
   ],
   "source": [
    "df['income'].plot.hist(bins = 25)"
   ]
  },
  {
   "cell_type": "markdown",
   "id": "7d437d37-f37c-43e5-a37e-c604eb4d39c2",
   "metadata": {},
   "source": [
    "### Create Age Group Column"
   ]
  },
  {
   "cell_type": "code",
   "execution_count": null,
   "id": "c6876327-3b17-404d-8b4c-71b1f050b259",
   "metadata": {},
   "outputs": [],
   "source": [
    "# Create an age group variable\n",
    "df.loc[df['age'] < 35, 'age_group'] = 'young adult'\n",
    "\n",
    "df.loc[(df['age'] >= 35) & (df['age'] < 50), 'age_group'] = 'adult'\n",
    "\n",
    "df.loc[(df['age'] >=50) & (df['age'] <=65), 'age_group'] = 'older adult'\n",
    "\n",
    "df.loc[df['age'] >= 65, 'age_group'] = 'senior'"
   ]
  },
  {
   "cell_type": "code",
   "execution_count": 21,
   "id": "d79ef2c6-667c-4557-8a94-630d205baa93",
   "metadata": {},
   "outputs": [
    {
     "data": {
      "text/plain": [
       "age_group\n",
       "young adult    26786\n",
       "senior         26547\n",
       "adult          23558\n",
       "older adult    23337\n",
       "Name: count, dtype: int64"
      ]
     },
     "execution_count": 21,
     "metadata": {},
     "output_type": "execute_result"
    }
   ],
   "source": [
    "df['age_group'].value_counts(dropna = False)"
   ]
  },
  {
   "cell_type": "markdown",
   "id": "9d721aeb-af17-468b-ba03-b0f6e87a1511",
   "metadata": {},
   "source": [
    "### Create Income Bracket Column"
   ]
  },
  {
   "cell_type": "code",
   "execution_count": null,
   "id": "2bb9f9e9-5fde-49ae-8e27-6d155b141db6",
   "metadata": {},
   "outputs": [],
   "source": [
    "# Create an income type variable\n",
    "df.loc[df['income'] < 50000, 'income_group'] = 'low-income'\n",
    "\n",
    "df.loc[(df['income'] >= 50000) & (df['income'] < 150000), 'income_group'] = 'middle-income'\n",
    "\n",
    "df.loc[df['income'] >= 150000, 'income_group'] = 'high-income'"
   ]
  },
  {
   "cell_type": "code",
   "execution_count": 32,
   "id": "80ec2852-a83d-4368-a3cb-ae53a7fb571a",
   "metadata": {},
   "outputs": [
    {
     "data": {
      "text/plain": [
       "income_group\n",
       "middle-income    76584\n",
       "high-income      12905\n",
       "low-income       10739\n",
       "Name: count, dtype: int64"
      ]
     },
     "execution_count": 32,
     "metadata": {},
     "output_type": "execute_result"
    }
   ],
   "source": [
    "df['income_group'].value_counts(dropna = False)"
   ]
  },
  {
   "cell_type": "markdown",
   "id": "132beab9-d8ab-46d6-8ae4-17e7684c2609",
   "metadata": {},
   "source": [
    "### Create a Family-Role Column"
   ]
  },
  {
   "cell_type": "code",
   "execution_count": null,
   "id": "d2d201f5-a1ca-4c20-990d-4b7b0977644b",
   "metadata": {},
   "outputs": [],
   "source": [
    "# Create a variable based on 'fam_status' and 'n_dependants'\n",
    "df.loc[(df['n_dependants'] > 0) & (df['fam_status'] == 'married'), 'family_role'] = 'married parent'\n",
    "\n",
    "df.loc[(df['n_dependants'] > 0) & (df['fam_status'] != 'married'), 'family_role'] = 'single parent'\n",
    "\n",
    "df.loc[(df['n_dependants'] == 0) & (df['fam_status'] == 'married'), 'family_role'] = 'married childless'\n",
    "\n",
    "df.loc[(df['n_dependants'] == 0) & (df['fam_status'] != 'married'), 'family_role'] = 'single childless'"
   ]
  },
  {
   "cell_type": "code",
   "execution_count": 47,
   "id": "61b12235-f3a7-4b0b-af32-1db65b166785",
   "metadata": {},
   "outputs": [
    {
     "data": {
      "text/plain": [
       "family_role\n",
       "married parent      70257\n",
       "single childless    25125\n",
       "single parent        4846\n",
       "Name: count, dtype: int64"
      ]
     },
     "execution_count": 47,
     "metadata": {},
     "output_type": "execute_result"
    }
   ],
   "source": [
    "df['family_role'].value_counts(dropna = False)"
   ]
  },
  {
   "cell_type": "code",
   "execution_count": 65,
   "id": "246a7e30-cea9-42c7-b389-12cdac8290b3",
   "metadata": {},
   "outputs": [],
   "source": [
    "df_childless = df.loc[df['n_dependants'] == 0]"
   ]
  },
  {
   "cell_type": "code",
   "execution_count": 67,
   "id": "14918093-39fa-4123-981d-e131d96b344d",
   "metadata": {},
   "outputs": [
    {
     "data": {
      "text/html": [
       "<div>\n",
       "<style scoped>\n",
       "    .dataframe tbody tr th:only-of-type {\n",
       "        vertical-align: middle;\n",
       "    }\n",
       "\n",
       "    .dataframe tbody tr th {\n",
       "        vertical-align: top;\n",
       "    }\n",
       "\n",
       "    .dataframe thead th {\n",
       "        text-align: right;\n",
       "    }\n",
       "</style>\n",
       "<table border=\"1\" class=\"dataframe\">\n",
       "  <thead>\n",
       "    <tr style=\"text-align: right;\">\n",
       "      <th></th>\n",
       "      <th>order_id</th>\n",
       "      <th>user_id</th>\n",
       "      <th>order_number</th>\n",
       "      <th>orders_day_of_week</th>\n",
       "      <th>order_hour_placed</th>\n",
       "      <th>days_since_prior_order</th>\n",
       "      <th>product_id</th>\n",
       "      <th>add_to_cart_order</th>\n",
       "      <th>reordered</th>\n",
       "      <th>product_name</th>\n",
       "      <th>...</th>\n",
       "      <th>date_joined</th>\n",
       "      <th>n_dependants</th>\n",
       "      <th>fam_status</th>\n",
       "      <th>income</th>\n",
       "      <th>_merge</th>\n",
       "      <th>region</th>\n",
       "      <th>Activity</th>\n",
       "      <th>age_group</th>\n",
       "      <th>income_group</th>\n",
       "      <th>family_role</th>\n",
       "    </tr>\n",
       "  </thead>\n",
       "  <tbody>\n",
       "    <tr>\n",
       "      <th>2088</th>\n",
       "      <td>1716848</td>\n",
       "      <td>21</td>\n",
       "      <td>7</td>\n",
       "      <td>5</td>\n",
       "      <td>9</td>\n",
       "      <td>28.0</td>\n",
       "      <td>48988</td>\n",
       "      <td>2</td>\n",
       "      <td>1</td>\n",
       "      <td>Unsweetened Premium Iced Tea</td>\n",
       "      <td>...</td>\n",
       "      <td>6/18/2019</td>\n",
       "      <td>0</td>\n",
       "      <td>divorced/widowed</td>\n",
       "      <td>124643</td>\n",
       "      <td>both</td>\n",
       "      <td>West</td>\n",
       "      <td>High</td>\n",
       "      <td>senior</td>\n",
       "      <td>middle-income</td>\n",
       "      <td>single childless</td>\n",
       "    </tr>\n",
       "    <tr>\n",
       "      <th>2199</th>\n",
       "      <td>1735495</td>\n",
       "      <td>21</td>\n",
       "      <td>27</td>\n",
       "      <td>3</td>\n",
       "      <td>8</td>\n",
       "      <td>9.0</td>\n",
       "      <td>22275</td>\n",
       "      <td>1</td>\n",
       "      <td>0</td>\n",
       "      <td>Sriracha Hot Chili Sauce</td>\n",
       "      <td>...</td>\n",
       "      <td>6/18/2019</td>\n",
       "      <td>0</td>\n",
       "      <td>divorced/widowed</td>\n",
       "      <td>124643</td>\n",
       "      <td>both</td>\n",
       "      <td>West</td>\n",
       "      <td>High</td>\n",
       "      <td>senior</td>\n",
       "      <td>middle-income</td>\n",
       "      <td>single childless</td>\n",
       "    </tr>\n",
       "    <tr>\n",
       "      <th>2685</th>\n",
       "      <td>1149132</td>\n",
       "      <td>27</td>\n",
       "      <td>21</td>\n",
       "      <td>2</td>\n",
       "      <td>11</td>\n",
       "      <td>8.0</td>\n",
       "      <td>3098</td>\n",
       "      <td>8</td>\n",
       "      <td>1</td>\n",
       "      <td>Lavender Dish Soap</td>\n",
       "      <td>...</td>\n",
       "      <td>4/25/2018</td>\n",
       "      <td>0</td>\n",
       "      <td>divorced/widowed</td>\n",
       "      <td>110170</td>\n",
       "      <td>both</td>\n",
       "      <td>Northeast</td>\n",
       "      <td>High</td>\n",
       "      <td>senior</td>\n",
       "      <td>middle-income</td>\n",
       "      <td>single childless</td>\n",
       "    </tr>\n",
       "    <tr>\n",
       "      <th>2847</th>\n",
       "      <td>933179</td>\n",
       "      <td>27</td>\n",
       "      <td>51</td>\n",
       "      <td>2</td>\n",
       "      <td>9</td>\n",
       "      <td>5.0</td>\n",
       "      <td>14233</td>\n",
       "      <td>2</td>\n",
       "      <td>1</td>\n",
       "      <td>Natural Artesian Water</td>\n",
       "      <td>...</td>\n",
       "      <td>4/25/2018</td>\n",
       "      <td>0</td>\n",
       "      <td>divorced/widowed</td>\n",
       "      <td>110170</td>\n",
       "      <td>both</td>\n",
       "      <td>Northeast</td>\n",
       "      <td>High</td>\n",
       "      <td>senior</td>\n",
       "      <td>middle-income</td>\n",
       "      <td>single childless</td>\n",
       "    </tr>\n",
       "    <tr>\n",
       "      <th>3025</th>\n",
       "      <td>1560223</td>\n",
       "      <td>27</td>\n",
       "      <td>68</td>\n",
       "      <td>2</td>\n",
       "      <td>8</td>\n",
       "      <td>4.0</td>\n",
       "      <td>27086</td>\n",
       "      <td>1</td>\n",
       "      <td>1</td>\n",
       "      <td>Half &amp; Half</td>\n",
       "      <td>...</td>\n",
       "      <td>4/25/2018</td>\n",
       "      <td>0</td>\n",
       "      <td>divorced/widowed</td>\n",
       "      <td>110170</td>\n",
       "      <td>both</td>\n",
       "      <td>Northeast</td>\n",
       "      <td>High</td>\n",
       "      <td>senior</td>\n",
       "      <td>middle-income</td>\n",
       "      <td>single childless</td>\n",
       "    </tr>\n",
       "    <tr>\n",
       "      <th>...</th>\n",
       "      <td>...</td>\n",
       "      <td>...</td>\n",
       "      <td>...</td>\n",
       "      <td>...</td>\n",
       "      <td>...</td>\n",
       "      <td>...</td>\n",
       "      <td>...</td>\n",
       "      <td>...</td>\n",
       "      <td>...</td>\n",
       "      <td>...</td>\n",
       "      <td>...</td>\n",
       "      <td>...</td>\n",
       "      <td>...</td>\n",
       "      <td>...</td>\n",
       "      <td>...</td>\n",
       "      <td>...</td>\n",
       "      <td>...</td>\n",
       "      <td>...</td>\n",
       "      <td>...</td>\n",
       "      <td>...</td>\n",
       "      <td>...</td>\n",
       "    </tr>\n",
       "    <tr>\n",
       "      <th>32400982</th>\n",
       "      <td>792593</td>\n",
       "      <td>206188</td>\n",
       "      <td>4</td>\n",
       "      <td>5</td>\n",
       "      <td>12</td>\n",
       "      <td>30.0</td>\n",
       "      <td>35898</td>\n",
       "      <td>4</td>\n",
       "      <td>1</td>\n",
       "      <td>Original Hot Sauce</td>\n",
       "      <td>...</td>\n",
       "      <td>9/7/2018</td>\n",
       "      <td>0</td>\n",
       "      <td>single</td>\n",
       "      <td>32772</td>\n",
       "      <td>both</td>\n",
       "      <td>Northeast</td>\n",
       "      <td>High</td>\n",
       "      <td>adult</td>\n",
       "      <td>low-income</td>\n",
       "      <td>single childless</td>\n",
       "    </tr>\n",
       "    <tr>\n",
       "      <th>32401558</th>\n",
       "      <td>1765908</td>\n",
       "      <td>206193</td>\n",
       "      <td>37</td>\n",
       "      <td>0</td>\n",
       "      <td>12</td>\n",
       "      <td>2.0</td>\n",
       "      <td>47719</td>\n",
       "      <td>6</td>\n",
       "      <td>1</td>\n",
       "      <td>Banana Raspberry &amp; Brown Rice Stage 2</td>\n",
       "      <td>...</td>\n",
       "      <td>6/27/2019</td>\n",
       "      <td>0</td>\n",
       "      <td>single</td>\n",
       "      <td>70597</td>\n",
       "      <td>both</td>\n",
       "      <td>West</td>\n",
       "      <td>High</td>\n",
       "      <td>adult</td>\n",
       "      <td>middle-income</td>\n",
       "      <td>single childless</td>\n",
       "    </tr>\n",
       "    <tr>\n",
       "      <th>32402134</th>\n",
       "      <td>3302466</td>\n",
       "      <td>206199</td>\n",
       "      <td>1</td>\n",
       "      <td>2</td>\n",
       "      <td>11</td>\n",
       "      <td>NaN</td>\n",
       "      <td>7781</td>\n",
       "      <td>3</td>\n",
       "      <td>0</td>\n",
       "      <td>Organic Sticks Low Moisture Part Skim Mozzarel...</td>\n",
       "      <td>...</td>\n",
       "      <td>12/9/2017</td>\n",
       "      <td>0</td>\n",
       "      <td>divorced/widowed</td>\n",
       "      <td>144953</td>\n",
       "      <td>both</td>\n",
       "      <td>West</td>\n",
       "      <td>High</td>\n",
       "      <td>older adult</td>\n",
       "      <td>middle-income</td>\n",
       "      <td>single childless</td>\n",
       "    </tr>\n",
       "    <tr>\n",
       "      <th>32402259</th>\n",
       "      <td>1231231</td>\n",
       "      <td>206199</td>\n",
       "      <td>9</td>\n",
       "      <td>1</td>\n",
       "      <td>13</td>\n",
       "      <td>13.0</td>\n",
       "      <td>34254</td>\n",
       "      <td>6</td>\n",
       "      <td>1</td>\n",
       "      <td>White Facial Tissues</td>\n",
       "      <td>...</td>\n",
       "      <td>12/9/2017</td>\n",
       "      <td>0</td>\n",
       "      <td>divorced/widowed</td>\n",
       "      <td>144953</td>\n",
       "      <td>both</td>\n",
       "      <td>West</td>\n",
       "      <td>High</td>\n",
       "      <td>older adult</td>\n",
       "      <td>middle-income</td>\n",
       "      <td>single childless</td>\n",
       "    </tr>\n",
       "    <tr>\n",
       "      <th>32402277</th>\n",
       "      <td>754538</td>\n",
       "      <td>206199</td>\n",
       "      <td>10</td>\n",
       "      <td>3</td>\n",
       "      <td>16</td>\n",
       "      <td>16.0</td>\n",
       "      <td>43409</td>\n",
       "      <td>9</td>\n",
       "      <td>0</td>\n",
       "      <td>Frosted Mini-Wheats Original Cereal</td>\n",
       "      <td>...</td>\n",
       "      <td>12/9/2017</td>\n",
       "      <td>0</td>\n",
       "      <td>divorced/widowed</td>\n",
       "      <td>144953</td>\n",
       "      <td>both</td>\n",
       "      <td>West</td>\n",
       "      <td>High</td>\n",
       "      <td>older adult</td>\n",
       "      <td>middle-income</td>\n",
       "      <td>single childless</td>\n",
       "    </tr>\n",
       "  </tbody>\n",
       "</table>\n",
       "<p>25125 rows × 34 columns</p>\n",
       "</div>"
      ],
      "text/plain": [
       "         order_id user_id  order_number  orders_day_of_week  \\\n",
       "2088      1716848      21             7                   5   \n",
       "2199      1735495      21            27                   3   \n",
       "2685      1149132      27            21                   2   \n",
       "2847       933179      27            51                   2   \n",
       "3025      1560223      27            68                   2   \n",
       "...           ...     ...           ...                 ...   \n",
       "32400982   792593  206188             4                   5   \n",
       "32401558  1765908  206193            37                   0   \n",
       "32402134  3302466  206199             1                   2   \n",
       "32402259  1231231  206199             9                   1   \n",
       "32402277   754538  206199            10                   3   \n",
       "\n",
       "          order_hour_placed  days_since_prior_order product_id  \\\n",
       "2088                      9                    28.0      48988   \n",
       "2199                      8                     9.0      22275   \n",
       "2685                     11                     8.0       3098   \n",
       "2847                      9                     5.0      14233   \n",
       "3025                      8                     4.0      27086   \n",
       "...                     ...                     ...        ...   \n",
       "32400982                 12                    30.0      35898   \n",
       "32401558                 12                     2.0      47719   \n",
       "32402134                 11                     NaN       7781   \n",
       "32402259                 13                    13.0      34254   \n",
       "32402277                 16                    16.0      43409   \n",
       "\n",
       "          add_to_cart_order  reordered  \\\n",
       "2088                      2          1   \n",
       "2199                      1          0   \n",
       "2685                      8          1   \n",
       "2847                      2          1   \n",
       "3025                      1          1   \n",
       "...                     ...        ...   \n",
       "32400982                  4          1   \n",
       "32401558                  6          1   \n",
       "32402134                  3          0   \n",
       "32402259                  6          1   \n",
       "32402277                  9          0   \n",
       "\n",
       "                                               product_name  ...  date_joined  \\\n",
       "2088                           Unsweetened Premium Iced Tea  ...    6/18/2019   \n",
       "2199                               Sriracha Hot Chili Sauce  ...    6/18/2019   \n",
       "2685                                     Lavender Dish Soap  ...    4/25/2018   \n",
       "2847                                 Natural Artesian Water  ...    4/25/2018   \n",
       "3025                                            Half & Half  ...    4/25/2018   \n",
       "...                                                     ...  ...          ...   \n",
       "32400982                                 Original Hot Sauce  ...     9/7/2018   \n",
       "32401558              Banana Raspberry & Brown Rice Stage 2  ...    6/27/2019   \n",
       "32402134  Organic Sticks Low Moisture Part Skim Mozzarel...  ...    12/9/2017   \n",
       "32402259                               White Facial Tissues  ...    12/9/2017   \n",
       "32402277                Frosted Mini-Wheats Original Cereal  ...    12/9/2017   \n",
       "\n",
       "          n_dependants        fam_status  income _merge     region Activity  \\\n",
       "2088                 0  divorced/widowed  124643   both       West     High   \n",
       "2199                 0  divorced/widowed  124643   both       West     High   \n",
       "2685                 0  divorced/widowed  110170   both  Northeast     High   \n",
       "2847                 0  divorced/widowed  110170   both  Northeast     High   \n",
       "3025                 0  divorced/widowed  110170   both  Northeast     High   \n",
       "...                ...               ...     ...    ...        ...      ...   \n",
       "32400982             0            single   32772   both  Northeast     High   \n",
       "32401558             0            single   70597   both       West     High   \n",
       "32402134             0  divorced/widowed  144953   both       West     High   \n",
       "32402259             0  divorced/widowed  144953   both       West     High   \n",
       "32402277             0  divorced/widowed  144953   both       West     High   \n",
       "\n",
       "            age_group   income_group       family_role  \n",
       "2088           senior  middle-income  single childless  \n",
       "2199           senior  middle-income  single childless  \n",
       "2685           senior  middle-income  single childless  \n",
       "2847           senior  middle-income  single childless  \n",
       "3025           senior  middle-income  single childless  \n",
       "...               ...            ...               ...  \n",
       "32400982        adult     low-income  single childless  \n",
       "32401558        adult  middle-income  single childless  \n",
       "32402134  older adult  middle-income  single childless  \n",
       "32402259  older adult  middle-income  single childless  \n",
       "32402277  older adult  middle-income  single childless  \n",
       "\n",
       "[25125 rows x 34 columns]"
      ]
     },
     "execution_count": 67,
     "metadata": {},
     "output_type": "execute_result"
    }
   ],
   "source": [
    "df_childless"
   ]
  },
  {
   "cell_type": "code",
   "execution_count": 75,
   "id": "7c5c0db0-b719-4615-9e41-6ba1210f737d",
   "metadata": {},
   "outputs": [
    {
     "data": {
      "text/html": [
       "<div>\n",
       "<style scoped>\n",
       "    .dataframe tbody tr th:only-of-type {\n",
       "        vertical-align: middle;\n",
       "    }\n",
       "\n",
       "    .dataframe tbody tr th {\n",
       "        vertical-align: top;\n",
       "    }\n",
       "\n",
       "    .dataframe thead th {\n",
       "        text-align: right;\n",
       "    }\n",
       "</style>\n",
       "<table border=\"1\" class=\"dataframe\">\n",
       "  <thead>\n",
       "    <tr style=\"text-align: right;\">\n",
       "      <th></th>\n",
       "      <th>order_id</th>\n",
       "      <th>user_id</th>\n",
       "      <th>order_number</th>\n",
       "      <th>orders_day_of_week</th>\n",
       "      <th>order_hour_placed</th>\n",
       "      <th>days_since_prior_order</th>\n",
       "      <th>product_id</th>\n",
       "      <th>add_to_cart_order</th>\n",
       "      <th>reordered</th>\n",
       "      <th>product_name</th>\n",
       "      <th>...</th>\n",
       "      <th>date_joined</th>\n",
       "      <th>n_dependants</th>\n",
       "      <th>fam_status</th>\n",
       "      <th>income</th>\n",
       "      <th>_merge</th>\n",
       "      <th>region</th>\n",
       "      <th>Activity</th>\n",
       "      <th>age_group</th>\n",
       "      <th>income_group</th>\n",
       "      <th>family_role</th>\n",
       "    </tr>\n",
       "  </thead>\n",
       "  <tbody>\n",
       "  </tbody>\n",
       "</table>\n",
       "<p>0 rows × 34 columns</p>\n",
       "</div>"
      ],
      "text/plain": [
       "Empty DataFrame\n",
       "Columns: [order_id, user_id, order_number, orders_day_of_week, order_hour_placed, days_since_prior_order, product_id, add_to_cart_order, reordered, product_name, aisle_id, department_id, prices, max_order, loyalty_flag, avg_price, spending_flag, med_days_prior, frequency_flag, Unnamed: 0, surname, gender, state, age, date_joined, n_dependants, fam_status, income, _merge, region, Activity, age_group, income_group, family_role]\n",
       "Index: []\n",
       "\n",
       "[0 rows x 34 columns]"
      ]
     },
     "execution_count": 75,
     "metadata": {},
     "output_type": "execute_result"
    }
   ],
   "source": [
    "df_childless2 = df_childless.loc[df_childless['fam_status'] == 'married']\n",
    "df_childless2"
   ]
  },
  {
   "cell_type": "markdown",
   "id": "d72c72a1-ec28-496c-8d9e-d5dd7d2cda1e",
   "metadata": {},
   "source": [
    "#### There are no married people without dependants in this dataframe, which must be because it's artificial."
   ]
  },
  {
   "cell_type": "markdown",
   "id": "3847f147-ca17-466f-94c2-1ba1b16dcbad",
   "metadata": {},
   "source": [
    "### Export to pickle"
   ]
  },
  {
   "cell_type": "code",
   "execution_count": 79,
   "id": "c32151a5-0dfc-4c88-9200-0b42cfd71950",
   "metadata": {},
   "outputs": [],
   "source": [
    "df.to_pickle(os.path.join(path, '02 Data','Prepared Data', 'sample_w_profiling.pkl'))"
   ]
  }
 ],
 "metadata": {
  "kernelspec": {
   "display_name": "Python 3 (ipykernel)",
   "language": "python",
   "name": "python3"
  },
  "language_info": {
   "codemirror_mode": {
    "name": "ipython",
    "version": 3
   },
   "file_extension": ".py",
   "mimetype": "text/x-python",
   "name": "python",
   "nbconvert_exporter": "python",
   "pygments_lexer": "ipython3",
   "version": "3.11.7"
  }
 },
 "nbformat": 4,
 "nbformat_minor": 5
}
