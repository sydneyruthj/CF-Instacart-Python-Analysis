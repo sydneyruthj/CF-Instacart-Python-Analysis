{
 "cells": [
  {
   "cell_type": "markdown",
   "id": "5c7de012-552b-49d5-95b6-ccf9cc8982b1",
   "metadata": {},
   "source": [
    "## 4.8 Grouping Task\n",
    "\n",
    "### Contents\n",
    "#### Importing Libraries\n",
    "#### Importing Data\n",
    "#### Grouping and Aggregating\n",
    "#### Loyalty flag\n",
    "#### Creating a Spending Flag to sort users into Low or High Spenders\n",
    "#### Sort Customers by Frequency of Use\n",
    "#### Export Data"
   ]
  },
  {
   "cell_type": "markdown",
   "id": "6ed00fd4-5bf2-43ea-9686-67949707dba1",
   "metadata": {},
   "source": [
    "### Importing Libraries"
   ]
  },
  {
   "cell_type": "code",
   "execution_count": 1,
   "id": "98acaf1f-5cea-44c6-9984-6c7200718560",
   "metadata": {},
   "outputs": [],
   "source": [
    "# Import Libraries\n",
    "import pandas as pd\n",
    "import numpy as np\n",
    "import os\n"
   ]
  },
  {
   "cell_type": "markdown",
   "id": "5bfa9652-55ae-4232-97ce-ad7e13f9fab2",
   "metadata": {},
   "source": [
    "### Importing Data"
   ]
  },
  {
   "cell_type": "code",
   "execution_count": 3,
   "id": "456daa36-4a86-498d-b7ae-49e5ee51118d",
   "metadata": {},
   "outputs": [],
   "source": [
    "# Define pathway to relevant folder\n",
    "path = r'/Users/sydneyjohnson/Documents/CF Data Analytics Course/07-2024 Instacart Basket Analysis'"
   ]
  },
  {
   "cell_type": "code",
   "execution_count": 5,
   "id": "7faa1889-1b86-4e63-b21d-17ca7a1aa6db",
   "metadata": {},
   "outputs": [],
   "source": [
    "# Import ords_prods_merged.pkl\n",
    "df = pd.read_pickle(os.path.join(path, '02 Data','Prepared Data', 'combo_7_25.pkl'))"
   ]
  },
  {
   "cell_type": "markdown",
   "id": "ad1a8da8-f487-4442-95cd-c1b7c51eb16c",
   "metadata": {},
   "source": [
    "### Grouping and Aggregating"
   ]
  },
  {
   "cell_type": "code",
   "execution_count": 7,
   "id": "b9820521-0165-402b-8d86-51ec72d7cb37",
   "metadata": {},
   "outputs": [
    {
     "data": {
      "text/html": [
       "<div>\n",
       "<style scoped>\n",
       "    .dataframe tbody tr th:only-of-type {\n",
       "        vertical-align: middle;\n",
       "    }\n",
       "\n",
       "    .dataframe tbody tr th {\n",
       "        vertical-align: top;\n",
       "    }\n",
       "\n",
       "    .dataframe thead tr th {\n",
       "        text-align: left;\n",
       "    }\n",
       "\n",
       "    .dataframe thead tr:last-of-type th {\n",
       "        text-align: right;\n",
       "    }\n",
       "</style>\n",
       "<table border=\"1\" class=\"dataframe\">\n",
       "  <thead>\n",
       "    <tr>\n",
       "      <th></th>\n",
       "      <th>order_number</th>\n",
       "    </tr>\n",
       "    <tr>\n",
       "      <th></th>\n",
       "      <th>mean</th>\n",
       "    </tr>\n",
       "    <tr>\n",
       "      <th>department_id</th>\n",
       "      <th></th>\n",
       "    </tr>\n",
       "  </thead>\n",
       "  <tbody>\n",
       "    <tr>\n",
       "      <th>1</th>\n",
       "      <td>15.457838</td>\n",
       "    </tr>\n",
       "    <tr>\n",
       "      <th>2</th>\n",
       "      <td>17.277920</td>\n",
       "    </tr>\n",
       "    <tr>\n",
       "      <th>3</th>\n",
       "      <td>17.170395</td>\n",
       "    </tr>\n",
       "    <tr>\n",
       "      <th>4</th>\n",
       "      <td>17.811403</td>\n",
       "    </tr>\n",
       "    <tr>\n",
       "      <th>5</th>\n",
       "      <td>15.215751</td>\n",
       "    </tr>\n",
       "    <tr>\n",
       "      <th>6</th>\n",
       "      <td>16.439806</td>\n",
       "    </tr>\n",
       "    <tr>\n",
       "      <th>7</th>\n",
       "      <td>17.225802</td>\n",
       "    </tr>\n",
       "    <tr>\n",
       "      <th>8</th>\n",
       "      <td>15.340650</td>\n",
       "    </tr>\n",
       "    <tr>\n",
       "      <th>9</th>\n",
       "      <td>15.895474</td>\n",
       "    </tr>\n",
       "    <tr>\n",
       "      <th>10</th>\n",
       "      <td>20.197148</td>\n",
       "    </tr>\n",
       "    <tr>\n",
       "      <th>11</th>\n",
       "      <td>16.170638</td>\n",
       "    </tr>\n",
       "    <tr>\n",
       "      <th>12</th>\n",
       "      <td>15.887671</td>\n",
       "    </tr>\n",
       "    <tr>\n",
       "      <th>13</th>\n",
       "      <td>16.583536</td>\n",
       "    </tr>\n",
       "    <tr>\n",
       "      <th>14</th>\n",
       "      <td>16.773669</td>\n",
       "    </tr>\n",
       "    <tr>\n",
       "      <th>15</th>\n",
       "      <td>16.165037</td>\n",
       "    </tr>\n",
       "    <tr>\n",
       "      <th>16</th>\n",
       "      <td>17.665606</td>\n",
       "    </tr>\n",
       "    <tr>\n",
       "      <th>17</th>\n",
       "      <td>15.694469</td>\n",
       "    </tr>\n",
       "    <tr>\n",
       "      <th>18</th>\n",
       "      <td>19.310397</td>\n",
       "    </tr>\n",
       "    <tr>\n",
       "      <th>19</th>\n",
       "      <td>17.177343</td>\n",
       "    </tr>\n",
       "    <tr>\n",
       "      <th>20</th>\n",
       "      <td>16.473447</td>\n",
       "    </tr>\n",
       "    <tr>\n",
       "      <th>21</th>\n",
       "      <td>22.902379</td>\n",
       "    </tr>\n",
       "  </tbody>\n",
       "</table>\n",
       "</div>"
      ],
      "text/plain": [
       "              order_number\n",
       "                      mean\n",
       "department_id             \n",
       "1                15.457838\n",
       "2                17.277920\n",
       "3                17.170395\n",
       "4                17.811403\n",
       "5                15.215751\n",
       "6                16.439806\n",
       "7                17.225802\n",
       "8                15.340650\n",
       "9                15.895474\n",
       "10               20.197148\n",
       "11               16.170638\n",
       "12               15.887671\n",
       "13               16.583536\n",
       "14               16.773669\n",
       "15               16.165037\n",
       "16               17.665606\n",
       "17               15.694469\n",
       "18               19.310397\n",
       "19               17.177343\n",
       "20               16.473447\n",
       "21               22.902379"
      ]
     },
     "execution_count": 7,
     "metadata": {},
     "output_type": "execute_result"
    }
   ],
   "source": [
    "# 2. Aggregate the mean of 'order_number' grouped by 'department_id' for entire dataframe\n",
    "df.groupby('department_id').agg({'order_number': ['mean']})"
   ]
  },
  {
   "cell_type": "markdown",
   "id": "1edd883a-d7b1-49d9-98fa-9c780b55f92e",
   "metadata": {},
   "source": [
    "### These values are very similar to the subset of the first million rows that I was working on earlier. Most of them are within a range of + or - 1, though there are a couple departments (6 and 8) that have a slightly larger discrepency. "
   ]
  },
  {
   "cell_type": "code",
   "execution_count": 9,
   "id": "e92bb916-660a-4dd7-a3f9-636d61195461",
   "metadata": {},
   "outputs": [
    {
     "data": {
      "text/html": [
       "<div>\n",
       "<style scoped>\n",
       "    .dataframe tbody tr th:only-of-type {\n",
       "        vertical-align: middle;\n",
       "    }\n",
       "\n",
       "    .dataframe tbody tr th {\n",
       "        vertical-align: top;\n",
       "    }\n",
       "\n",
       "    .dataframe thead tr th {\n",
       "        text-align: left;\n",
       "    }\n",
       "\n",
       "    .dataframe thead tr:last-of-type th {\n",
       "        text-align: right;\n",
       "    }\n",
       "</style>\n",
       "<table border=\"1\" class=\"dataframe\">\n",
       "  <thead>\n",
       "    <tr>\n",
       "      <th></th>\n",
       "      <th colspan=\"3\" halign=\"left\">prices</th>\n",
       "    </tr>\n",
       "    <tr>\n",
       "      <th></th>\n",
       "      <th>mean</th>\n",
       "      <th>min</th>\n",
       "      <th>max</th>\n",
       "    </tr>\n",
       "    <tr>\n",
       "      <th>loyalty_flag</th>\n",
       "      <th></th>\n",
       "      <th></th>\n",
       "      <th></th>\n",
       "    </tr>\n",
       "  </thead>\n",
       "  <tbody>\n",
       "    <tr>\n",
       "      <th>Loyal customer</th>\n",
       "      <td>9.579296</td>\n",
       "      <td>1.0</td>\n",
       "      <td>14900.0</td>\n",
       "    </tr>\n",
       "    <tr>\n",
       "      <th>New customer</th>\n",
       "      <td>10.059689</td>\n",
       "      <td>1.0</td>\n",
       "      <td>14900.0</td>\n",
       "    </tr>\n",
       "    <tr>\n",
       "      <th>Regular customer</th>\n",
       "      <td>9.894537</td>\n",
       "      <td>1.0</td>\n",
       "      <td>14900.0</td>\n",
       "    </tr>\n",
       "  </tbody>\n",
       "</table>\n",
       "</div>"
      ],
      "text/plain": [
       "                     prices              \n",
       "                       mean  min      max\n",
       "loyalty_flag                             \n",
       "Loyal customer     9.579296  1.0  14900.0\n",
       "New customer      10.059689  1.0  14900.0\n",
       "Regular customer   9.894537  1.0  14900.0"
      ]
     },
     "execution_count": 9,
     "metadata": {},
     "output_type": "execute_result"
    }
   ],
   "source": [
    "# Get basic statistics for 'prices' grouped by 'loyalty_flag'\n",
    "df.groupby('loyalty_flag').agg({'prices': ['mean', 'min', 'max']})"
   ]
  },
  {
   "cell_type": "markdown",
   "id": "adafbabd-02e6-4250-b6d8-91b0a96cc474",
   "metadata": {},
   "source": [
    "### Creating a Spending Flag to sort users into Low or High Spenders"
   ]
  },
  {
   "cell_type": "code",
   "execution_count": null,
   "id": "0b0ad512-44e8-469a-ab91-0c39a4ac2785",
   "metadata": {},
   "outputs": [],
   "source": [
    "# Create an avg_price column for each user\n",
    "df['avg_price'] = df.groupby(['user_id'])['prices'].transform('mean')"
   ]
  },
  {
   "cell_type": "code",
   "execution_count": null,
   "id": "29ae3782-357d-4594-a86f-9b09a6d25689",
   "metadata": {},
   "outputs": [],
   "source": [
    "# Check new 'avg_price' column\n",
    "df.head()"
   ]
  },
  {
   "cell_type": "code",
   "execution_count": null,
   "id": "1add976a-219a-4bb0-b63d-bbfde8dc6539",
   "metadata": {},
   "outputs": [],
   "source": [
    "# Define 'spending_flag' perameters\n",
    "df.loc[df['avg_price'] < 10, 'spending_flag'] = 'Low Spender'\n",
    "df.loc[df['avg_price'] >= 10, 'spending_flag'] = 'High Spender'"
   ]
  },
  {
   "cell_type": "code",
   "execution_count": null,
   "id": "5c619002-5034-45ea-8ec5-ec6a9f3fa570",
   "metadata": {},
   "outputs": [],
   "source": [
    "# Check new column\n",
    "df.head()"
   ]
  },
  {
   "cell_type": "markdown",
   "id": "0ab3c902-ab2a-4033-b3b7-4c4603ff7ee3",
   "metadata": {},
   "source": [
    "### Sort Customers by Frequency of Use"
   ]
  },
  {
   "cell_type": "code",
   "execution_count": null,
   "id": "bd313d4e-37b8-4f51-90ba-99545371225c",
   "metadata": {},
   "outputs": [],
   "source": [
    "# Create a 'med_days_prior' column for each user\n",
    "df['med_days_prior'] = df.groupby(['user_id'])['days_since_prior_order'].transform('median')"
   ]
  },
  {
   "cell_type": "code",
   "execution_count": null,
   "id": "5a3e5059-8baf-48a6-ac12-9955158ec04e",
   "metadata": {},
   "outputs": [],
   "source": [
    "# Check new column\n",
    "df.head()"
   ]
  },
  {
   "cell_type": "code",
   "execution_count": null,
   "id": "18a012d4-74f0-4dc1-a8fe-a7bb9f23fcad",
   "metadata": {},
   "outputs": [],
   "source": [
    "# Define perameters for 'frequency_flag'\n",
    "df.loc[df['med_days_prior'] > 20, 'frequency_flag'] = 'Non-frequent customer'\n",
    "df.loc[(df['med_days_prior'] > 10) & (df['med_days_prior'] <= 20), 'frequency_flag'] = 'Regular customer'\n",
    "df.loc[df['med_days_prior'] <= 10, 'frequency_flag'] = 'Frequent customer'"
   ]
  },
  {
   "cell_type": "code",
   "execution_count": null,
   "id": "bfde9908-8058-4589-8256-654f6fdd9238",
   "metadata": {},
   "outputs": [],
   "source": [
    "# Check value counts for new flag\n",
    "df['frequency_flag'].value_counts(dropna = False)"
   ]
  },
  {
   "cell_type": "markdown",
   "id": "3ed15fdd-94fe-4087-9e29-7f73d310de75",
   "metadata": {},
   "source": [
    "### Exporting Data"
   ]
  },
  {
   "cell_type": "code",
   "execution_count": null,
   "id": "5fde62c6-3b88-421a-8089-ed0d9278c698",
   "metadata": {},
   "outputs": [],
   "source": [
    "# Export df to pickle\n",
    "df.to_pickle(os.path.join(path, '02 Data','Prepared Data', 'combo_7_24.pkl'))"
   ]
  }
 ],
 "metadata": {
  "kernelspec": {
   "display_name": "Python 3 (ipykernel)",
   "language": "python",
   "name": "python3"
  },
  "language_info": {
   "codemirror_mode": {
    "name": "ipython",
    "version": 3
   },
   "file_extension": ".py",
   "mimetype": "text/x-python",
   "name": "python",
   "nbconvert_exporter": "python",
   "pygments_lexer": "ipython3",
   "version": "3.11.7"
  }
 },
 "nbformat": 4,
 "nbformat_minor": 5
}
